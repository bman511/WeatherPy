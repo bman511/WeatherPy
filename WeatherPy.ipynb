{
 "cells": [
  {
   "cell_type": "markdown",
   "metadata": {},
   "source": [
    "# WeatherPy\n",
    "----\n",
    "\n",
    "### Analysis\n",
    "* As expected, the weather becomes significantly warmer as one approaches the equator (0 Deg. Latitude). More interestingly, however, is the fact that the southern hemisphere tends to be warmer this time of year than the northern hemisphere. This may be due to the tilt of the earth.\n",
    "* There is no strong relationship between latitude and cloudiness. However, it is interesting to see that a strong band of cities sits at 0, 80, and 100% cloudiness.\n",
    "* There is no strong relationship between latitude and wind speed. However, in northern hemispheres there is a flurry of cities with over 20 mph of wind.\n",
    "\n",
    "---\n",
    "\n",
    "#### Note\n",
    "* Instructions have been included for each segment. You do not have to follow them exactly, but they are included to help you think through the steps."
   ]
  },
  {
   "cell_type": "code",
   "execution_count": 67,
   "metadata": {
    "scrolled": true
   },
   "outputs": [
    {
     "ename": "ModuleNotFoundError",
     "evalue": "No module named 'excel'",
     "output_type": "error",
     "traceback": [
      "\u001b[1;31m---------------------------------------------------------------------------\u001b[0m",
      "\u001b[1;31mModuleNotFoundError\u001b[0m                       Traceback (most recent call last)",
      "\u001b[1;32m<ipython-input-67-77db060f7102>\u001b[0m in \u001b[0;36m<module>\u001b[1;34m()\u001b[0m\n\u001b[0;32m      6\u001b[0m \u001b[1;32mimport\u001b[0m \u001b[0mtime\u001b[0m\u001b[1;33m\u001b[0m\u001b[0m\n\u001b[0;32m      7\u001b[0m \u001b[1;32mimport\u001b[0m \u001b[0mjson\u001b[0m\u001b[1;33m\u001b[0m\u001b[0m\n\u001b[1;32m----> 8\u001b[1;33m \u001b[1;32mimport\u001b[0m \u001b[0mexcel\u001b[0m\u001b[1;33m\u001b[0m\u001b[0m\n\u001b[0m\u001b[0;32m      9\u001b[0m \u001b[1;33m\u001b[0m\u001b[0m\n\u001b[0;32m     10\u001b[0m \u001b[1;31m# Import API key\u001b[0m\u001b[1;33m\u001b[0m\u001b[1;33m\u001b[0m\u001b[0m\n",
      "\u001b[1;31mModuleNotFoundError\u001b[0m: No module named 'excel'"
     ]
    }
   ],
   "source": [
    "# Dependencies and Setup\n",
    "import matplotlib.pyplot as plt\n",
    "import pandas as pd\n",
    "import numpy as np\n",
    "import requests\n",
    "import time\n",
    "import json\n",
    "\n",
    "# Import API key\n",
    "from api_keys import api_key\n",
    "\n",
    "# Incorporated citipy to determine city based on latitude and longitude\n",
    "from citipy import citipy\n",
    "\n",
    "# Output File (CSV)\n",
    "output_data_file = \"output_data/cities.csv\"\n",
    "\n",
    "# Range of latitudes and longitudes\n",
    "lat_range = (-90, 90)\n",
    "lng_range = (-180, 180)\n",
    "\n"
   ]
  },
  {
   "cell_type": "markdown",
   "metadata": {},
   "source": [
    "## Generate Latitudes and Longitudes"
   ]
  },
  {
   "cell_type": "code",
   "execution_count": 37,
   "metadata": {},
   "outputs": [],
   "source": [
    "# # List for holding lat_lngs and cities\n",
    "# lat_lngs = []\n",
    "# cities = []\n",
    "\n",
    "# # Create a set of random lat and lng combinations to consider the full range of geographies\n",
    "# lats = np.random.uniform(low=-90.000, high=90.000, size=5)\n",
    "# lngs = np.random.uniform(low=-180.000, high=180.000, size=5)\n",
    "\n",
    "# #Yields a zip object, an iterable of tuples of lats and lngs\n",
    "# lat_lngs = zip(lats, lngs)"
   ]
  },
  {
   "cell_type": "markdown",
   "metadata": {},
   "source": [
    "### Perform API Calls\n",
    "* Perform a weather check on each city using a series of successive API calls.\n",
    "* Include a print log of each city as it'sbeing processed (with the city number and city name).\n"
   ]
  },
  {
   "cell_type": "code",
   "execution_count": 38,
   "metadata": {},
   "outputs": [],
   "source": [
    "#Define list for housing dictionaries of city weather information\n",
    "city_dict = []\n",
    "\n",
    "#Define index/increment variable\n",
    "ind = 0\n",
    "\n",
    "#Set of unique city names that have been called.  This will prevent unnecessary API calls for cities with bad JSON responses.\n",
    "city_names = []\n",
    "\n",
    "# Base url for API call\n",
    "url_source = \"http://api.openweathermap.org/data/2.5/weather?\"\n",
    "\n",
    "# Number of unique cities desired\n",
    "num_cities = 61"
   ]
  },
  {
   "cell_type": "code",
   "execution_count": 39,
   "metadata": {},
   "outputs": [
    {
     "name": "stdout",
     "output_type": "stream",
     "text": [
      "City Name: Port Alfred - City ID: 964432\n",
      "City Name: Makat - City ID: 608872\n",
      "City Name: Saint George - City ID: 262462\n",
      "City Name: Tiksi - City ID: 2015306\n",
      "City Name: Longyearbyen - City ID: 2729907\n",
      "City Name: Hasaki - City ID: 2112802\n",
      "City Name: Avarua - City ID: 4035715\n",
      "City Name: Georgetown - City ID: 3378644\n",
      "City Name: Khatanga - City ID: 2022572\n",
      "City Name: Hobart - City ID: 2163355\n",
      "City Name: Mataura - City ID: 6201424\n",
      "City Name: Belaya Gora - City ID: 2126785\n",
      "City Name: Bundaberg - City ID: 2173323\n",
      "City Name: Berlevag - City ID: 780687\n",
      "City Name: Ribeira Grande - City ID: 3372707\n",
      "City Name: Hermanus - City ID: 3366880\n",
      "City Name: Hay River - City ID: 5972762\n",
      "City Name: Yellowknife - City ID: 6185377\n",
      "City Name: Vaini - City ID: 1273574\n",
      "City Name: Mount Gambier - City ID: 2156643\n",
      "City Name: Atuona - City ID: 4020109\n",
      "City Name: Dingle - City ID: 1714733\n",
      "City Name: Brewster - City ID: 4931273\n",
      "City Name: Thompson - City ID: 6165406\n",
      "City Name: Bredasdorp - City ID: 1015776\n",
      "City Name: Albany - City ID: 5106834\n",
      "City Name: Plerin - City ID: 2986795\n",
      "City Name: Sitka - City ID: 4267710\n",
      "City Name: Tuktoyaktuk - City ID: 6170031\n",
      "City Name: Rikitea - City ID: 4030556\n",
      "City Name: Ponta do Sol - City ID: 3453439\n",
      "City Name: Damaturu - City ID: 2345521\n",
      "City Name: Zhigansk - City ID: 2012530\n",
      "City Name: Dikson - City ID: 1507390\n",
      "City Name: Bluff - City ID: 2175403\n",
      "City Name: Baruun-Urt - City ID: 2032614\n",
      "City Name: Xichang - City ID: 1789647\n",
      "City Name: Telhara - City ID: 1254787\n",
      "City Name: Dawson Creek - City ID: 5935804\n",
      "City Name: Saint-Philippe - City ID: 6138908\n",
      "City Name: Jamestown - City ID: 2069194\n",
      "City Name: Lyaskelya - City ID: 532825\n",
      "City Name: Kokstad - City ID: 988356\n",
      "City Name: San Patricio - City ID: 3437029\n",
      "City Name: Grand Gaube - City ID: 934479\n",
      "City Name: Talara - City ID: 3691582\n",
      "City Name: Coahuayana - City ID: 3981460\n",
      "City Name: Chokurdakh - City ID: 2126123\n",
      "City Name: Hobyo - City ID: 57000\n",
      "City Name: Ushuaia - City ID: 3833367\n",
      "City Name: Jam Sahib - City ID: 1403734\n",
      "City Name: Kavieng - City ID: 2094342\n",
      "City Name: Bethel - City ID: 5880568\n",
      "City Name: Busselton - City ID: 2075265\n",
      "City Name: Quatre Cocos - City ID: 1106643\n",
      "City Name: Cape Town - City ID: 3369157\n",
      "City Name: Yarmolyntsi - City ID: 688440\n",
      "City Name: Kondopoga - City ID: 545626\n",
      "City Name: Cidreira - City ID: 3466165\n",
      "City Name: Srednekolymsk - City ID: 2121025\n",
      "City Name: Gisborne - City ID: 2206854\n"
     ]
    }
   ],
   "source": [
    "\n",
    "# Loop until you have X number of randomly chosen cities and their associated weather data\n",
    "while ind < num_cities:\n",
    "    \n",
    "    # Generate random latitude and longitude \n",
    "    lat = np.random.uniform(low=-90.000, high=90.000)\n",
    "    lng = np.random.uniform(low=-180.000, high=180.000)\n",
    "\n",
    "    # Identify nearest city for lat / lng combination\n",
    "    city = citipy.nearest_city(lat, lng).city_name\n",
    "    \n",
    "    # Skip everything else and start again if the city name is already in our city names list\n",
    "    if city in city_names:\n",
    "        continue\n",
    "    \n",
    "    # Add unique city name to city_names list\n",
    "    city_names.append(city)\n",
    "    #city_names.add(city)\n",
    "      \n",
    "    # Construct URI for API call\n",
    "    query_url = url_source + \"appid=\" + api_key + \"&q=\" + city + \"&units=imperial\"\n",
    "    \n",
    "    # Call API and JSONify the API response\n",
    "    weather_json = requests.get(query_url).json()\n",
    "    \n",
    "    # Define function to test validity of JSON response from openweather\n",
    "    def isGoodData(json):\n",
    "        return json['cod'] == 200 #could just use return json['Name'], will be False if not present\n",
    "    \n",
    "    # If the city has good data (returns code 200), add it to a our cities list of dictionaries\n",
    "    if isGoodData(weather_json):\n",
    "        city_dict.append({})\n",
    "        city_dict[ind]['Name'] = city\n",
    "        city_dict[ind]['Country'] = weather_json['sys']['country']\n",
    "        city_dict[ind]['ID'] = weather_json['id']\n",
    "        city_dict[ind]['Latitude'] = weather_json['coord']['lat']\n",
    "        city_dict[ind]['Longitude'] = weather_json['coord']['lon']\n",
    "        city_dict[ind]['Max Temp'] = weather_json['main']['temp_max'] #need this in F\n",
    "        city_dict[ind]['Clouds'] = weather_json['clouds']['all']\n",
    "        city_dict[ind]['Wind Speed'] = weather_json['wind']['speed']\n",
    "        city_dict[ind]['Humidity'] = weather_json['main']['humidity']\n",
    "        \n",
    "        # Increment our index if we've collected data for another city\n",
    "        ind += 1\n",
    "        # Log the city\n",
    "        print(f\"City Name: {weather_json['name']} - City ID: {weather_json['id']}\")"
   ]
  },
  {
   "cell_type": "markdown",
   "metadata": {},
   "source": [
    "### Convert Raw Data to DataFrame\n",
    "* Export the city data into a .csv.\n",
    "* Display the DataFrame"
   ]
  },
  {
   "cell_type": "code",
   "execution_count": 58,
   "metadata": {},
   "outputs": [
    {
     "data": {
      "text/html": [
       "<div>\n",
       "<style scoped>\n",
       "    .dataframe tbody tr th:only-of-type {\n",
       "        vertical-align: middle;\n",
       "    }\n",
       "\n",
       "    .dataframe tbody tr th {\n",
       "        vertical-align: top;\n",
       "    }\n",
       "\n",
       "    .dataframe thead th {\n",
       "        text-align: right;\n",
       "    }\n",
       "</style>\n",
       "<table border=\"1\" class=\"dataframe\">\n",
       "  <thead>\n",
       "    <tr style=\"text-align: right;\">\n",
       "      <th></th>\n",
       "      <th>Clouds</th>\n",
       "      <th>Country</th>\n",
       "      <th>Humidity</th>\n",
       "      <th>ID</th>\n",
       "      <th>Latitude</th>\n",
       "      <th>Longitude</th>\n",
       "      <th>Max Temp</th>\n",
       "      <th>Wind Speed</th>\n",
       "    </tr>\n",
       "  </thead>\n",
       "  <tbody>\n",
       "    <tr>\n",
       "      <th>0</th>\n",
       "      <td>8</td>\n",
       "      <td>ZA</td>\n",
       "      <td>94</td>\n",
       "      <td>964432</td>\n",
       "      <td>-33.59</td>\n",
       "      <td>26.89</td>\n",
       "      <td>69.18</td>\n",
       "      <td>3.96</td>\n",
       "    </tr>\n",
       "    <tr>\n",
       "      <th>1</th>\n",
       "      <td>44</td>\n",
       "      <td>KZ</td>\n",
       "      <td>95</td>\n",
       "      <td>608872</td>\n",
       "      <td>47.65</td>\n",
       "      <td>53.35</td>\n",
       "      <td>12.16</td>\n",
       "      <td>11.01</td>\n",
       "    </tr>\n",
       "    <tr>\n",
       "      <th>2</th>\n",
       "      <td>90</td>\n",
       "      <td>GR</td>\n",
       "      <td>100</td>\n",
       "      <td>262462</td>\n",
       "      <td>39.45</td>\n",
       "      <td>22.34</td>\n",
       "      <td>35.60</td>\n",
       "      <td>1.16</td>\n",
       "    </tr>\n",
       "    <tr>\n",
       "      <th>3</th>\n",
       "      <td>36</td>\n",
       "      <td>RU</td>\n",
       "      <td>0</td>\n",
       "      <td>2015306</td>\n",
       "      <td>71.64</td>\n",
       "      <td>128.87</td>\n",
       "      <td>-38.47</td>\n",
       "      <td>5.08</td>\n",
       "    </tr>\n",
       "    <tr>\n",
       "      <th>4</th>\n",
       "      <td>20</td>\n",
       "      <td>NO</td>\n",
       "      <td>62</td>\n",
       "      <td>2729907</td>\n",
       "      <td>78.22</td>\n",
       "      <td>15.63</td>\n",
       "      <td>19.40</td>\n",
       "      <td>34.45</td>\n",
       "    </tr>\n",
       "  </tbody>\n",
       "</table>\n",
       "</div>"
      ],
      "text/plain": [
       "   Clouds Country  Humidity       ID  Latitude  Longitude  Max Temp  \\\n",
       "0       8      ZA        94   964432    -33.59      26.89     69.18   \n",
       "1      44      KZ        95   608872     47.65      53.35     12.16   \n",
       "2      90      GR       100   262462     39.45      22.34     35.60   \n",
       "3      36      RU         0  2015306     71.64     128.87    -38.47   \n",
       "4      20      NO        62  2729907     78.22      15.63     19.40   \n",
       "\n",
       "   Wind Speed  \n",
       "0        3.96  \n",
       "1       11.01  \n",
       "2        1.16  \n",
       "3        5.08  \n",
       "4       34.45  "
      ]
     },
     "execution_count": 58,
     "metadata": {},
     "output_type": "execute_result"
    }
   ],
   "source": [
    "#print(city_dict)\n",
    "city_df = pd.DataFrame(city_dict)\n",
    "city_df.head()"
   ]
  },
  {
   "cell_type": "code",
   "execution_count": 59,
   "metadata": {},
   "outputs": [
    {
     "data": {
      "text/plain": [
       "61"
      ]
     },
     "execution_count": 59,
     "metadata": {},
     "output_type": "execute_result"
    }
   ],
   "source": [
    "#Check total number of unique cities compiled\n",
    "num_Cities = city_df['ID'].nunique()\n",
    "num_Cities"
   ]
  },
  {
   "cell_type": "code",
   "execution_count": 69,
   "metadata": {},
   "outputs": [],
   "source": [
    "city_df.to_csv(output_data_file)\n",
    "# city_df['Latitude'] = city_df['Latitude'].astype(float)\n",
    "# city_df['Max Temp'] = city_df['Max Temp'].astype(float)"
   ]
  },
  {
   "cell_type": "markdown",
   "metadata": {},
   "source": [
    "### Plotting the Data\n",
    "* Use proper labeling of the plots using plot titles (including date of analysis) and axes labels.\n",
    "* Save the plotted figures as .pngs."
   ]
  },
  {
   "cell_type": "markdown",
   "metadata": {},
   "source": [
    "#### Latitude vs. Temperature Plot"
   ]
  },
  {
   "cell_type": "code",
   "execution_count": 70,
   "metadata": {},
   "outputs": [
    {
     "data": {
      "image/png": "[encoded data removed]",
      "text/plain": [
       "<Figure size 432x288 with 1 Axes>"
      ]
     },
     "metadata": {
      "needs_background": "light"
     },
     "output_type": "display_data"
    }
   ],
   "source": [
    "\n",
    "city_df.plot(kind=\"scatter\", x = 'Latitude', y = 'Max Temp', grid=True, xlim=lat_range, title='City Latitude vs Max Temperature')\n",
    "plt.savefig('output_data/latVsTemp.png')\n",
    "plt.show()"
   ]
  },
  {
   "cell_type": "markdown",
   "metadata": {},
   "source": [
    "#### Latitude vs. Humidity Plot"
   ]
  },
  {
   "cell_type": "code",
   "execution_count": 63,
   "metadata": {},
   "outputs": [
    {
     "data": {
      "image/png": "[encoded data removed]",
      "text/plain": [
       "<Figure size 432x288 with 1 Axes>"
      ]
     },
     "metadata": {
      "needs_background": "light"
     },
     "output_type": "display_data"
    }
   ],
   "source": [
    "city_df.plot(kind=\"scatter\", x = 'Latitude', y = 'Humidity', grid=True, xlim=lat_range, title='City Latitude vs Humidity')\n",
    "plt.savefig('output_data/latVsHumid.png')\n",
    "plt.show()"
   ]
  },
  {
   "cell_type": "markdown",
   "metadata": {},
   "source": [
    "#### Latitude vs. Cloudiness Plot"
   ]
  },
  {
   "cell_type": "code",
   "execution_count": 64,
   "metadata": {},
   "outputs": [
    {
     "data": {
      "image/png": "[encoded data removed]",
      "text/plain": [
       "<Figure size 432x288 with 1 Axes>"
      ]
     },
     "metadata": {
      "needs_background": "light"
     },
     "output_type": "display_data"
    }
   ],
   "source": [
    "city_df.plot(kind=\"scatter\", x = 'Latitude', y = 'Clouds', grid=True, xlim=lat_range, title='City Latitude vs Cloud Cover')\n",
    "plt.savefig('output_data/latVsClouds.png')\n",
    "plt.show()"
   ]
  },
  {
   "cell_type": "markdown",
   "metadata": {},
   "source": [
    "#### Latitude vs. Wind Speed Plot"
   ]
  },
  {
   "cell_type": "code",
   "execution_count": 65,
   "metadata": {},
   "outputs": [
    {
     "data": {
      "image/png": "[encoded data removed]",
      "text/plain": [
       "<Figure size 432x288 with 1 Axes>"
      ]
     },
     "metadata": {
      "needs_background": "light"
     },
     "output_type": "display_data"
    }
   ],
   "source": [
    "city_df.plot(kind=\"scatter\", x = 'Latitude', y = 'Wind Speed', grid=True, xlim=lat_range, title='City Latitude vs Wind Speed')\n",
    "plt.savefig('output_data/latVsWind.png')\n",
    "plt.show()"
   ]
  },
  {
   "cell_type": "code",
   "execution_count": null,
   "metadata": {},
   "outputs": [],
   "source": []
  }
 ],
 "metadata": {
  "anaconda-cloud": {},
  "kernelspec": {
   "display_name": "Python 3",
   "language": "python",
   "name": "python3"
  },
  "language_info": {
   "codemirror_mode": {
    "name": "ipython",
    "version": 3
   },
   "file_extension": ".py",
   "mimetype": "text/x-python",
   "name": "python",
   "nbconvert_exporter": "python",
   "pygments_lexer": "ipython3",
   "version": "3.6.6"
  }
 },
 "nbformat": 4,
 "nbformat_minor": 2
}
