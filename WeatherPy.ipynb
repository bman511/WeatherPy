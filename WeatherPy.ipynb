{
 "cells": [
  {
   "cell_type": "markdown",
   "metadata": {},
   "source": [
    "# WeatherPy\n",
    "----\n",
    "\n",
    "### Analysis\n",
    "*  It is often supposed that temperatures on earth increase when approaching the equator.  However, not until now have we definitive evidence for this assertion.  When viewing [Temperature vs Latitude](#Output-Data-to-csv-file) there is a clear increase in temperature as one approaches 0 Deg. Latitude with a corresponding decrease as one moves away. In addition, cities in the southern hemisphere, associated with negative latitude coordinates, show relatively high temperatures compared to those in the northern hemisphere.  This is due to the earth's tilted axis and distribution of land and water.  The southern hemisphere is largely water compared to the north.  Thus, the region retains energy during the north's winter yielding comparatively warm temperatures.  The prevalence of water in the southern hemisphere also explains the lopsided distribution of cities we observe in the chart.  There are simply more cities in the northern hemisphere due to more land area.\n",
    "\n",
    "\n",
    "* There is not a clear relationship between latitude and wind speed. However, [this graphic](#Latitude-vs.-Wind-Speed-Plot) indicates wind speeds generally do not rise above 20 mph and most are lower than 15 mph.\n",
    "\n",
    "\n",
    "*  There appears to be no relationship between latitude and humidity.  [This chart](#Latitude-vs.-Humidity-Plot) displays humidity and latitude.  While there is no obervable correlation, most of the data tend to be clustered in the 40% to 100% range.  This could indicate a normal distribution for city humidities worldwide given most cities are not in the middle of deserts. \n",
    "\n",
    "---\n",
    "\n"
   ]
  },
  {
   "cell_type": "code",
   "execution_count": 13,
   "metadata": {
    "scrolled": true
   },
   "outputs": [],
   "source": [
    "# Dependencies and Setup\n",
    "import matplotlib.pyplot as plt\n",
    "import pandas as pd\n",
    "import numpy as np\n",
    "import requests\n",
    "import json\n",
    "\n",
    "# Import API key\n",
    "from api_keys import api_key\n",
    "\n",
    "# Incorporated citipy to determine city based on latitude and longitude\n",
    "from citipy import citipy\n",
    "\n",
    "# Output File (CSV)\n",
    "output_data_file = \"output_data/cities.csv\"\n"
   ]
  },
  {
   "cell_type": "markdown",
   "metadata": {},
   "source": [
    "#### Define supporting variables"
   ]
  },
  {
   "cell_type": "code",
   "execution_count": 5,
   "metadata": {},
   "outputs": [],
   "source": [
    "# Number of unique cities desired\n",
    "num_cities = 500\n",
    "\n",
    "#Define list for housing dictionaries of city weather information\n",
    "city_dict = []\n",
    "\n",
    "#Define index/increment variable\n",
    "ind = 0\n",
    "\n",
    "#List of unique city names that have been called.  \n",
    "city_names = []\n",
    "\n",
    "# Base url for API call\n",
    "url_source = \"http://api.openweathermap.org/data/2.5/weather?\"\n",
    "\n",
    "# Range of latitudes\n",
    "lat_range = (-90, 90)\n",
    "\n"
   ]
  },
  {
   "cell_type": "markdown",
   "metadata": {},
   "source": [
    "#### Loop to obtain city data"
   ]
  },
  {
   "cell_type": "code",
   "execution_count": 8,
   "metadata": {},
   "outputs": [
    {
     "name": "stdout",
     "output_type": "stream",
     "text": [
      "City Name: ('Geraldton', 'CA') -- City ID: 5960603\n",
      "City Name: ('Pangody', 'RU') -- City ID: 1495626\n",
      "City Name: ('Raudeberg', 'NO') -- City ID: 3146487\n",
      "City Name: ('Bend', 'US') -- City ID: 5713587\n",
      "City Name: ('Arraial do Cabo', 'BR') -- City ID: 3471451\n",
      "City Name: ('Saint-Philippe', 'CA') -- City ID: 6138908\n",
      "City Name: ('Thompson', 'CA') -- City ID: 6165406\n",
      "City Name: ('Atuona', 'PF') -- City ID: 4020109\n",
      "City Name: ('Tiksi', 'RU') -- City ID: 2015306\n",
      "City Name: ('Touros', 'BR') -- City ID: 3386213\n",
      "City Name: ('Lorengau', 'PG') -- City ID: 2092164\n",
      "City Name: ('Eyl', 'SO') -- City ID: 60019\n",
      "City Name: ('Yatou', 'CM') -- City ID: 2225940\n",
      "City Name: ('Yellowknife', 'CA') -- City ID: 6185377\n",
      "City Name: ('Warrnambool', 'AU') -- City ID: 2144528\n",
      "City Name: ('Carnarvon', 'ZA') -- City ID: 1014034\n",
      "City Name: ('Sosua', 'DO') -- City ID: 3492627\n",
      "City Name: ('Nyurba', 'RU') -- City ID: 2018735\n",
      "City Name: ('Cape Town', 'ZA') -- City ID: 3369157\n",
      "City Name: ('Laguna', 'MX') -- City ID: 4013704\n",
      "City Name: ('Ancud', 'CL') -- City ID: 3899695\n",
      "City Name: ('Port Alfred', 'ZA') -- City ID: 964432\n",
      "City Name: ('Punta Arenas', 'CL') -- City ID: 3874787\n",
      "City Name: ('Mataura', 'NZ') -- City ID: 6201424\n",
      "City Name: ('College', 'US') -- City ID: 5859699\n",
      "City Name: ('Riyadh', 'SA') -- City ID: 108410\n",
      "City Name: ('Broome', 'GB') -- City ID: 2656067\n",
      "City Name: ('Jaciara', 'BR') -- City ID: 3460355\n",
      "City Name: ('Albany', 'US') -- City ID: 5106834\n",
      "City Name: ('Chimbote', 'PE') -- City ID: 3698304\n",
      "City Name: ('Hermanus', 'ZA') -- City ID: 3366880\n",
      "City Name: ('Anqing', 'CN') -- City ID: 1817993\n",
      "City Name: ('Samfya', 'ZM') -- City ID: 899274\n",
      "City Name: ('Bredasdorp', 'ZA') -- City ID: 1015776\n",
      "City Name: ('Dospat', 'BG') -- City ID: 732015\n",
      "City Name: ('Hithadhoo', 'MV') -- City ID: 1282256\n",
      "City Name: ('Dikson', 'RU') -- City ID: 1507390\n",
      "City Name: ('Finnsnes', 'NO') -- City ID: 3157549\n",
      "City Name: ('Barrow', 'AR') -- City ID: 3833859\n",
      "City Name: ('Rikitea', 'PF') -- City ID: 4030556\n",
      "City Name: ('Kloulklubed', 'PW') -- City ID: 7671223\n",
      "City Name: ('Ratne', 'UA') -- City ID: 695789\n",
      "City Name: ('Srednekolymsk', 'RU') -- City ID: 2121025\n",
      "City Name: ('Fengcheng', 'CN') -- City ID: 2037411\n",
      "City Name: ('San Cristobal', 'EC') -- City ID: 3652462\n",
      "City Name: ('Georgetown', 'GY') -- City ID: 3378644\n",
      "City Name: ('Busselton', 'AU') -- City ID: 2075265\n",
      "City Name: ('Richards Bay', 'ZA') -- City ID: 962367\n",
      "City Name: ('Jamestown', 'AU') -- City ID: 2069194\n",
      "City Name: ('Ribeira Grande', 'PT') -- City ID: 3372707\n",
      "City Name: ('Hofn', 'IS') -- City ID: 2630299\n",
      "City Name: ('Port Hardy', 'CA') -- City ID: 6111862\n",
      "City Name: ('Butaritari', 'KI') -- City ID: 2110227\n",
      "City Name: ('New Norfolk', 'AU') -- City ID: 2155415\n",
      "City Name: ('Hobart', 'AU') -- City ID: 2163355\n",
      "City Name: ('Ushuaia', 'AR') -- City ID: 3833367\n",
      "City Name: ('Airai', 'TL') -- City ID: 1651810\n",
      "City Name: ('Qaanaaq', 'GL') -- City ID: 3831208\n",
      "City Name: ('Waddan', 'LY') -- City ID: 2209055\n"
     ]
    }
   ],
   "source": [
    "\n",
    "# Loop until you have X number of unique randomly chosen cities with corresponding weather data\n",
    "while ind < num_cities:\n",
    "    \n",
    "    # Generate random latitude and longitude \n",
    "    lat = np.random.uniform(low=-90.000, high=90.000)\n",
    "    lng = np.random.uniform(low=-180.000, high=180.000)\n",
    "\n",
    "    # Identify nearest city for lat / lng combination using citipy API\n",
    "    city = citipy.nearest_city(lat, lng).city_name\n",
    "    \n",
    "    # Skip everything else and start again if the city name is already in our city names list\n",
    "    if city in city_names:\n",
    "        continue\n",
    "    \n",
    "    # Add unique city name to city_names list\n",
    "    city_names.append(city)\n",
    "    #city_names.add(city)\n",
    "      \n",
    "    # Construct URI for API call\n",
    "    query_url = url_source + \"appid=\" + api_key + \"&q=\" + city + \"&units=imperial\"\n",
    "    \n",
    "    # Call API and JSONify the API response\n",
    "    weather_json = requests.get(query_url).json()\n",
    "    \n",
    "    # Define function to test validity of JSON response from openweather\n",
    "    def isGoodData(json):\n",
    "        return json['cod'] == 200 \n",
    "    \n",
    "    # If the city has good data (returns code 200), add it to a our cities list of dictionaries\n",
    "    if isGoodData(weather_json):\n",
    "        city_dict.append({})\n",
    "        city_dict[ind]['Name'] = city\n",
    "        city_dict[ind]['Country'] = weather_json['sys']['country']\n",
    "        city_dict[ind]['ID'] = weather_json['id']\n",
    "        city_dict[ind]['Latitude'] = weather_json['coord']['lat']\n",
    "        city_dict[ind]['Longitude'] = weather_json['coord']['lon']\n",
    "        city_dict[ind]['Max Temp'] = weather_json['main']['temp_max'] \n",
    "        city_dict[ind]['Clouds'] = weather_json['clouds']['all']\n",
    "        city_dict[ind]['Wind Speed'] = weather_json['wind']['speed']\n",
    "        city_dict[ind]['Humidity'] = weather_json['main']['humidity']\n",
    "        \n",
    "        # Increment our index since we've collected good data for another unique city\n",
    "        ind += 1\n",
    "        # Log the city info to the console/screen\n",
    "        print(f\"City Name: {weather_json['name'],weather_json['sys']['country']} -- City ID: {weather_json['id']}\")"
   ]
  },
  {
   "cell_type": "markdown",
   "metadata": {},
   "source": [
    "#### Convert Raw Data to DataFrame"
   ]
  },
  {
   "cell_type": "code",
   "execution_count": 9,
   "metadata": {},
   "outputs": [
    {
     "data": {
      "text/html": [
       "<div>\n",
       "<style scoped>\n",
       "    .dataframe tbody tr th:only-of-type {\n",
       "        vertical-align: middle;\n",
       "    }\n",
       "\n",
       "    .dataframe tbody tr th {\n",
       "        vertical-align: top;\n",
       "    }\n",
       "\n",
       "    .dataframe thead th {\n",
       "        text-align: right;\n",
       "    }\n",
       "</style>\n",
       "<table border=\"1\" class=\"dataframe\">\n",
       "  <thead>\n",
       "    <tr style=\"text-align: right;\">\n",
       "      <th></th>\n",
       "      <th>Clouds</th>\n",
       "      <th>Country</th>\n",
       "      <th>Humidity</th>\n",
       "      <th>ID</th>\n",
       "      <th>Latitude</th>\n",
       "      <th>Longitude</th>\n",
       "      <th>Max Temp</th>\n",
       "      <th>Name</th>\n",
       "      <th>Wind Speed</th>\n",
       "    </tr>\n",
       "  </thead>\n",
       "  <tbody>\n",
       "    <tr>\n",
       "      <th>0</th>\n",
       "      <td>90</td>\n",
       "      <td>JP</td>\n",
       "      <td>75</td>\n",
       "      <td>1865309</td>\n",
       "      <td>33.93</td>\n",
       "      <td>134.50</td>\n",
       "      <td>44.60</td>\n",
       "      <td>katsuura</td>\n",
       "      <td>8.05</td>\n",
       "    </tr>\n",
       "    <tr>\n",
       "      <th>1</th>\n",
       "      <td>90</td>\n",
       "      <td>CA</td>\n",
       "      <td>75</td>\n",
       "      <td>6170031</td>\n",
       "      <td>69.44</td>\n",
       "      <td>-133.03</td>\n",
       "      <td>-14.81</td>\n",
       "      <td>tuktoyaktuk</td>\n",
       "      <td>11.41</td>\n",
       "    </tr>\n",
       "    <tr>\n",
       "      <th>2</th>\n",
       "      <td>20</td>\n",
       "      <td>CA</td>\n",
       "      <td>75</td>\n",
       "      <td>5960603</td>\n",
       "      <td>49.72</td>\n",
       "      <td>-86.95</td>\n",
       "      <td>-13.01</td>\n",
       "      <td>geraldton</td>\n",
       "      <td>4.70</td>\n",
       "    </tr>\n",
       "    <tr>\n",
       "      <th>3</th>\n",
       "      <td>0</td>\n",
       "      <td>RU</td>\n",
       "      <td>57</td>\n",
       "      <td>1495626</td>\n",
       "      <td>65.85</td>\n",
       "      <td>74.49</td>\n",
       "      <td>-19.60</td>\n",
       "      <td>pangody</td>\n",
       "      <td>14.56</td>\n",
       "    </tr>\n",
       "    <tr>\n",
       "      <th>4</th>\n",
       "      <td>76</td>\n",
       "      <td>NO</td>\n",
       "      <td>100</td>\n",
       "      <td>3146487</td>\n",
       "      <td>61.99</td>\n",
       "      <td>5.14</td>\n",
       "      <td>37.40</td>\n",
       "      <td>raudeberg</td>\n",
       "      <td>12.75</td>\n",
       "    </tr>\n",
       "  </tbody>\n",
       "</table>\n",
       "</div>"
      ],
      "text/plain": [
       "   Clouds Country  Humidity       ID  Latitude  Longitude  Max Temp  \\\n",
       "0      90      JP        75  1865309     33.93     134.50     44.60   \n",
       "1      90      CA        75  6170031     69.44    -133.03    -14.81   \n",
       "2      20      CA        75  5960603     49.72     -86.95    -13.01   \n",
       "3       0      RU        57  1495626     65.85      74.49    -19.60   \n",
       "4      76      NO       100  3146487     61.99       5.14     37.40   \n",
       "\n",
       "          Name  Wind Speed  \n",
       "0     katsuura        8.05  \n",
       "1  tuktoyaktuk       11.41  \n",
       "2    geraldton        4.70  \n",
       "3      pangody       14.56  \n",
       "4    raudeberg       12.75  "
      ]
     },
     "execution_count": 9,
     "metadata": {},
     "output_type": "execute_result"
    }
   ],
   "source": [
    "\n",
    "city_df = pd.DataFrame(city_dict)\n",
    "city_df.head()"
   ]
  },
  {
   "cell_type": "code",
   "execution_count": 10,
   "metadata": {},
   "outputs": [
    {
     "data": {
      "text/plain": [
       "61"
      ]
     },
     "execution_count": 10,
     "metadata": {},
     "output_type": "execute_result"
    }
   ],
   "source": [
    "#Check total number of unique cities collected\n",
    "num_Cities = city_df['ID'].nunique()\n",
    "num_Cities"
   ]
  },
  {
   "cell_type": "markdown",
   "metadata": {},
   "source": [
    "#### Output Data to csv file"
   ]
  },
  {
   "cell_type": "code",
   "execution_count": 11,
   "metadata": {},
   "outputs": [],
   "source": [
    "city_df.to_csv(output_data_file)\n",
    "# city_df['Latitude'] = city_df['Latitude'].astype(float)\n",
    "# city_df['Max Temp'] = city_df['Max Temp'].astype(float)"
   ]
  },
  {
   "cell_type": "markdown",
   "metadata": {},
   "source": [
    "## Plotting the Data"
   ]
  },
  {
   "cell_type": "markdown",
   "metadata": {},
   "source": [
    "#### Latitude vs. Temperature Plot"
   ]
  },
  {
   "cell_type": "code",
   "execution_count": 28,
   "metadata": {},
   "outputs": [
    {
     "data": {
      "image/png": "[encoded data removed]",
      "text/plain": [
       "<Figure size 432x288 with 1 Axes>"
      ]
     },
     "metadata": {
      "needs_background": "light"
     },
     "output_type": "display_data"
    }
   ],
   "source": [
    "\n",
    "city_df.plot(kind=\"scatter\", x = 'Latitude', y = 'Max Temp', grid=True, xlim=lat_range, title='City Latitude vs Max Temperature')\n",
    "plt.ylabel('Temperature (F)')\n",
    "plt.xlabel('Latitude(Deg)')\n",
    "plt.savefig('output_data/latVsTemp.png')\n",
    "plt.show()"
   ]
  },
  {
   "cell_type": "markdown",
   "metadata": {},
   "source": [
    "#### Latitude vs. Humidity Plot"
   ]
  },
  {
   "cell_type": "code",
   "execution_count": 26,
   "metadata": {},
   "outputs": [
    {
     "data": {
      "image/png": "[encoded data removed]",
      "text/plain": [
       "<Figure size 432x288 with 1 Axes>"
      ]
     },
     "metadata": {
      "needs_background": "light"
     },
     "output_type": "display_data"
    }
   ],
   "source": [
    "city_df.plot(kind=\"scatter\", x = 'Latitude', y = 'Humidity', grid=True, ylim=(0,110),xlim=lat_range, title='City Latitude vs Humidity')\n",
    "plt.ylabel('Humidity (%)')\n",
    "plt.xlabel('Latitude(Deg)')\n",
    "plt.savefig('output_data/latVsHumid.png')\n",
    "plt.show()"
   ]
  },
  {
   "cell_type": "markdown",
   "metadata": {},
   "source": [
    "#### Latitude vs. Cloudiness Plot"
   ]
  },
  {
   "cell_type": "code",
   "execution_count": 24,
   "metadata": {},
   "outputs": [
    {
     "data": {
      "image/png": "[encoded data removed]",
      "text/plain": [
       "<Figure size 432x288 with 1 Axes>"
      ]
     },
     "metadata": {
      "needs_background": "light"
     },
     "output_type": "display_data"
    }
   ],
   "source": [
    "city_df.plot(kind=\"scatter\", x = 'Latitude', y = 'Clouds', grid=True, ylim=(-10,110), xlim=lat_range, title='City Latitude vs Cloud Cover')\n",
    "plt.ylabel('Cloud Cover (%)')\n",
    "plt.xlabel('Latitude(Deg)')\n",
    "plt.savefig('output_data/latVsClouds.png')\n",
    "plt.show()"
   ]
  },
  {
   "cell_type": "markdown",
   "metadata": {},
   "source": [
    "#### Latitude vs. Wind Speed Plot"
   ]
  },
  {
   "cell_type": "code",
   "execution_count": 17,
   "metadata": {},
   "outputs": [
    {
     "data": {
      "image/png": "[encoded data removed]",
      "text/plain": [
       "<Figure size 432x288 with 1 Axes>"
      ]
     },
     "metadata": {
      "needs_background": "light"
     },
     "output_type": "display_data"
    }
   ],
   "source": [
    "city_df.plot(kind=\"scatter\", x = 'Latitude', y = 'Wind Speed', grid=True, xlim=lat_range, title='City Latitude vs Wind Speed')\n",
    "plt.ylabel('Wind Speed(mph)')\n",
    "plt.savefig('output_data/latVsWind.png')\n",
    "plt.show()"
   ]
  },
  {
   "cell_type": "code",
   "execution_count": null,
   "metadata": {},
   "outputs": [],
   "source": []
  }
 ],
 "metadata": {
  "anaconda-cloud": {},
  "kernelspec": {
   "display_name": "Python 3",
   "language": "python",
   "name": "python3"
  },
  "language_info": {
   "codemirror_mode": {
    "name": "ipython",
    "version": 3
   },
   "file_extension": ".py",
   "mimetype": "text/x-python",
   "name": "python",
   "nbconvert_exporter": "python",
   "pygments_lexer": "ipython3",
   "version": "3.6.6"
  }
 },
 "nbformat": 4,
 "nbformat_minor": 2
}
